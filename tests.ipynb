{
 "cells": [
  {
   "attachments": {},
   "cell_type": "markdown",
   "metadata": {},
   "source": [
    "# **Hypothesis Testing With Insurance Data**\n",
    "\n",
    "_John Andrew Dixon_\n",
    "\n",
    "---\n",
    "\n",
    "##### **Imports**"
   ]
  },
  {
   "cell_type": "code",
   "execution_count": 50,
   "metadata": {},
   "outputs": [],
   "source": [
    "import matplotlib.pyplot as plt\n",
    "import numpy as np\n",
    "import pandas as pd\n",
    "import scipy.stats as stats\n",
    "import seaborn as sns\n",
    "from statsmodels.stats.multicomp import pairwise_tukeyhsd"
   ]
  },
  {
   "attachments": {},
   "cell_type": "markdown",
   "metadata": {},
   "source": [
    "##### **Data Load**"
   ]
  },
  {
   "cell_type": "code",
   "execution_count": 51,
   "metadata": {},
   "outputs": [
    {
     "data": {
      "text/html": [
       "<div>\n",
       "<style scoped>\n",
       "    .dataframe tbody tr th:only-of-type {\n",
       "        vertical-align: middle;\n",
       "    }\n",
       "\n",
       "    .dataframe tbody tr th {\n",
       "        vertical-align: top;\n",
       "    }\n",
       "\n",
       "    .dataframe thead th {\n",
       "        text-align: right;\n",
       "    }\n",
       "</style>\n",
       "<table border=\"1\" class=\"dataframe\">\n",
       "  <thead>\n",
       "    <tr style=\"text-align: right;\">\n",
       "      <th></th>\n",
       "      <th>age</th>\n",
       "      <th>sex</th>\n",
       "      <th>bmi</th>\n",
       "      <th>children</th>\n",
       "      <th>smoker</th>\n",
       "      <th>region</th>\n",
       "      <th>charges</th>\n",
       "    </tr>\n",
       "  </thead>\n",
       "  <tbody>\n",
       "    <tr>\n",
       "      <th>897</th>\n",
       "      <td>19</td>\n",
       "      <td>male</td>\n",
       "      <td>25.555</td>\n",
       "      <td>1</td>\n",
       "      <td>no</td>\n",
       "      <td>northwest</td>\n",
       "      <td>2221.56445</td>\n",
       "    </tr>\n",
       "    <tr>\n",
       "      <th>1192</th>\n",
       "      <td>58</td>\n",
       "      <td>female</td>\n",
       "      <td>32.395</td>\n",
       "      <td>1</td>\n",
       "      <td>no</td>\n",
       "      <td>northeast</td>\n",
       "      <td>13019.16105</td>\n",
       "    </tr>\n",
       "    <tr>\n",
       "      <th>686</th>\n",
       "      <td>42</td>\n",
       "      <td>male</td>\n",
       "      <td>26.125</td>\n",
       "      <td>2</td>\n",
       "      <td>no</td>\n",
       "      <td>northeast</td>\n",
       "      <td>7729.64575</td>\n",
       "    </tr>\n",
       "    <tr>\n",
       "      <th>622</th>\n",
       "      <td>49</td>\n",
       "      <td>female</td>\n",
       "      <td>21.300</td>\n",
       "      <td>1</td>\n",
       "      <td>no</td>\n",
       "      <td>southwest</td>\n",
       "      <td>9182.17000</td>\n",
       "    </tr>\n",
       "    <tr>\n",
       "      <th>12</th>\n",
       "      <td>23</td>\n",
       "      <td>male</td>\n",
       "      <td>34.400</td>\n",
       "      <td>0</td>\n",
       "      <td>no</td>\n",
       "      <td>southwest</td>\n",
       "      <td>1826.84300</td>\n",
       "    </tr>\n",
       "  </tbody>\n",
       "</table>\n",
       "</div>"
      ],
      "text/plain": [
       "      age     sex     bmi  children smoker     region      charges\n",
       "897    19    male  25.555         1     no  northwest   2221.56445\n",
       "1192   58  female  32.395         1     no  northeast  13019.16105\n",
       "686    42    male  26.125         2     no  northeast   7729.64575\n",
       "622    49  female  21.300         1     no  southwest   9182.17000\n",
       "12     23    male  34.400         0     no  southwest   1826.84300"
      ]
     },
     "execution_count": 51,
     "metadata": {},
     "output_type": "execute_result"
    }
   ],
   "source": [
    "# Remote URL to data\n",
    "url = \"https://docs.google.com/spreadsheets/d/e/2PACX-1vQ62VropqXZ6k0RwX0ErcJ-vwnCzfq2dD_vDiUEmaOyE4Xx8SW7dDkPoFa_LCH4zBsfrW6uinsvmgr_/pub?output=csv\"\n",
    "# Load the data\n",
    "df = pd.read_csv(url)\n",
    "# Verify\n",
    "df.sample(5)"
   ]
  },
  {
   "attachments": {},
   "cell_type": "markdown",
   "metadata": {},
   "source": [
    "---\n",
    "\n",
    "## **Test 1: Do smokers have higher insurance charges than non-smokers?**"
   ]
  },
  {
   "attachments": {},
   "cell_type": "markdown",
   "metadata": {},
   "source": [
    "#### **_Hypotheses_**"
   ]
  },
  {
   "attachments": {},
   "cell_type": "markdown",
   "metadata": {},
   "source": [
    "> **Null Hypothesis:** There is no significant difference between insurance charges of non-smokers and insurance charges of smokers. \n",
    "\n",
    "> **Alt. Hypothesis:** There is a significant difference between insurance charges of non-smokers and insurance charges of smokers, namely, that smokers have higher insurance charges than non-smokers."
   ]
  },
  {
   "attachments": {},
   "cell_type": "markdown",
   "metadata": {},
   "source": [
    "#### **_Test Choice_**"
   ]
  },
  {
   "attachments": {},
   "cell_type": "markdown",
   "metadata": {},
   "source": [
    "> There are two groups/samples we are comparing (smokers v. non-smokers). For each, we're comparing numerical data (amount charged). So, we will run a **Independent/2-Sample T-Test**.\n",
    "\n",
    "> For this test I'll use an alpha value of 0.05. It also has the following assumptions:\n",
    "> 1. No significant outliers\n",
    "> 2. Normality (or n > 15)\n",
    "> 3. Equal variances"
   ]
  },
  {
   "attachments": {},
   "cell_type": "markdown",
   "metadata": {},
   "source": [
    "#### **_Checking Assumptions_**"
   ]
  },
  {
   "attachments": {},
   "cell_type": "markdown",
   "metadata": {},
   "source": [
    "##### Check and remove outliers"
   ]
  },
  {
   "cell_type": "code",
   "execution_count": 52,
   "metadata": {},
   "outputs": [],
   "source": [
    "# Get only smokers\n",
    "smokers = df.loc[df[\"smoker\"] == \"yes\", :]\n",
    "# Get non-smokers\n",
    "non_smokers = df.loc[df[\"smoker\"] == \"no\", :]"
   ]
  },
  {
   "cell_type": "code",
   "execution_count": 53,
   "metadata": {},
   "outputs": [
    {
     "name": "stdout",
     "output_type": "stream",
     "text": [
      "There are 0 outliers for smokers\n"
     ]
    }
   ],
   "source": [
    "# Reveal potential outliers\n",
    "smokers_zscores = stats.zscore(smokers[\"charges\"])\n",
    "smokers_outliers = abs(smokers_zscores) > 3\n",
    "print(f\"There are {np.sum(smokers_outliers)} outliers for smokers\")"
   ]
  },
  {
   "cell_type": "code",
   "execution_count": 54,
   "metadata": {},
   "outputs": [
    {
     "name": "stdout",
     "output_type": "stream",
     "text": [
      "There are 24 outliers for non-smokers\n"
     ]
    }
   ],
   "source": [
    "# Reveal potential outliers\n",
    "non_smokers_zscores = stats.zscore(non_smokers[\"charges\"])\n",
    "non_smokers_outliers = abs(non_smokers_zscores) > 3\n",
    "print(f\"There are {np.sum(non_smokers_outliers)} outliers for non-smokers\")"
   ]
  },
  {
   "cell_type": "code",
   "execution_count": 55,
   "metadata": {},
   "outputs": [],
   "source": [
    "# Remove non-smoker outliers\n",
    "non_smokers = non_smokers.loc[~non_smokers_outliers, :]"
   ]
  },
  {
   "attachments": {},
   "cell_type": "markdown",
   "metadata": {},
   "source": [
    "##### Check for normality\n",
    "\n",
    "> _Null hypothesis for normality test: the distribution is normal_"
   ]
  },
  {
   "cell_type": "code",
   "execution_count": 56,
   "metadata": {},
   "outputs": [
    {
     "data": {
      "text/plain": [
       "NormaltestResult(statistic=61.03941356533816, pvalue=5.564930630036463e-14)"
      ]
     },
     "execution_count": 56,
     "metadata": {},
     "output_type": "execute_result"
    }
   ],
   "source": [
    "result_smokers = stats.normaltest(smokers[\"charges\"])\n",
    "result_smokers"
   ]
  },
  {
   "cell_type": "code",
   "execution_count": 57,
   "metadata": {},
   "outputs": [
    {
     "data": {
      "text/plain": [
       "NormaltestResult(statistic=163.80367047789198, pvalue=2.6945416315543976e-36)"
      ]
     },
     "execution_count": 57,
     "metadata": {},
     "output_type": "execute_result"
    }
   ],
   "source": [
    "result_non_smokers = stats.normaltest(non_smokers[\"charges\"])\n",
    "result_non_smokers"
   ]
  },
  {
   "attachments": {},
   "cell_type": "markdown",
   "metadata": {},
   "source": [
    "> The p-values for both groups are well below the function's alpha of 0.05. So, we reject the null hypothesis and conclude that the data is not normally distributed. Now, to verify the size of each sample to see if it is sufficiently large to use without satisfying the assumption:"
   ]
  },
  {
   "cell_type": "code",
   "execution_count": 58,
   "metadata": {},
   "outputs": [
    {
     "name": "stdout",
     "output_type": "stream",
     "text": [
      "Non-smokers sample size: 1040\n",
      "Smokers sample size: 274\n"
     ]
    }
   ],
   "source": [
    "print(\"Non-smokers sample size:\", len(non_smokers))\n",
    "print(\"Smokers sample size:\", len(smokers))"
   ]
  },
  {
   "attachments": {},
   "cell_type": "markdown",
   "metadata": {},
   "source": [
    "> For this type of test, each group must have n > 15 and each does. So, we can safely ignore the assumption of normality."
   ]
  },
  {
   "attachments": {},
   "cell_type": "markdown",
   "metadata": {},
   "source": [
    "##### Check for equal variance\n",
    "\n",
    "> _Null hypothesis for equal variance test: the groups have equal variances._"
   ]
  },
  {
   "cell_type": "code",
   "execution_count": 59,
   "metadata": {},
   "outputs": [
    {
     "data": {
      "text/plain": [
       "LeveneResult(statistic=520.7468821724297, pvalue=2.4247238784347824e-97)"
      ]
     },
     "execution_count": 59,
     "metadata": {},
     "output_type": "execute_result"
    }
   ],
   "source": [
    "result = stats.levene(smokers[\"charges\"], non_smokers[\"charges\"])\n",
    "result"
   ]
  },
  {
   "attachments": {},
   "cell_type": "markdown",
   "metadata": {},
   "source": [
    "> Since the p-value is significantly less than 0.05 we can reject the null hypothesis of the test and conclude that the groups do not have equal variances.  So, when the test is run using `stats.ttest_ind`, the `equal_var` parameter will be set to `False` to run a test to account for the unequal variances."
   ]
  },
  {
   "attachments": {},
   "cell_type": "markdown",
   "metadata": {},
   "source": [
    "#### **_Statistical Test_**"
   ]
  },
  {
   "cell_type": "code",
   "execution_count": 60,
   "metadata": {},
   "outputs": [
    {
     "data": {
      "text/plain": [
       "Ttest_indResult(statistic=33.732305987092516, pvalue=2.575322662587431e-104)"
      ]
     },
     "execution_count": 60,
     "metadata": {},
     "output_type": "execute_result"
    }
   ],
   "source": [
    "result = stats.ttest_ind(smokers[\"charges\"], non_smokers[\"charges\"], equal_var=False)\n",
    "result"
   ]
  },
  {
   "attachments": {},
   "cell_type": "markdown",
   "metadata": {},
   "source": [
    "> Our p-value is less than our alpha (0.05), so we reject the null hypothesis and conclude that there is a significant difference between insurance charges of non-smokers and insurance charges of smokers. However, this does not confirm whether it is smokers or non-smokers who get charged more."
   ]
  },
  {
   "attachments": {},
   "cell_type": "markdown",
   "metadata": {},
   "source": [
    "#### **_Visual Results_**"
   ]
  },
  {
   "attachments": {},
   "cell_type": "markdown",
   "metadata": {},
   "source": [
    "> The result of our test says that there is a significant difference in charges between smokers and non-smokers. A visual can help clear up which gets charged more:"
   ]
  },
  {
   "cell_type": "code",
   "execution_count": 61,
   "metadata": {},
   "outputs": [
    {
     "data": {
      "image/png": "[encoded data removed]",
      "text/plain": [
       "<Figure size 640x480 with 1 Axes>"
      ]
     },
     "metadata": {},
     "output_type": "display_data"
    }
   ],
   "source": [
    "sns.barplot(data=df, x=\"smoker\", y=\"charges\");"
   ]
  },
  {
   "attachments": {},
   "cell_type": "markdown",
   "metadata": {},
   "source": [
    "> As shown above (via the visual _and_ the previous test), the final answer to the question is yes, smokers have higher insurance charges than non-smokers."
   ]
  },
  {
   "attachments": {},
   "cell_type": "markdown",
   "metadata": {},
   "source": [
    "## **Test 2: Are men more likely to smoke than women?**"
   ]
  },
  {
   "attachments": {},
   "cell_type": "markdown",
   "metadata": {},
   "source": [
    "#### **_Hypotheses_**"
   ]
  },
  {
   "attachments": {},
   "cell_type": "markdown",
   "metadata": {},
   "source": [
    "> **Null Hypothesis:** There is no significant relationship between sex and smoker status.\n",
    "\n",
    "> **Alt. Hypothesis:** There is a significant relationship between sex and smoker status, namely, that men smoke more than women."
   ]
  },
  {
   "attachments": {},
   "cell_type": "markdown",
   "metadata": {},
   "source": [
    "#### **_Test Choice_**"
   ]
  },
  {
   "attachments": {},
   "cell_type": "markdown",
   "metadata": {},
   "source": [
    "> There are two groups/samples we are comparing (men v. women). For each, we're comparing binary categorical target data (smoker v. non-smoker). So, I perceive we will run a **Chi-Square Test**.\n",
    "\n",
    "> For this test I'll use an alpha value of 0.05. It also has the following assumptions:\n",
    "> 1. There are two categorical variables (ordinal or nominal)\n",
    "> 2. The outcomes are independent"
   ]
  },
  {
   "attachments": {},
   "cell_type": "markdown",
   "metadata": {},
   "source": [
    "#### **_Checking Assumptions_**"
   ]
  },
  {
   "attachments": {},
   "cell_type": "markdown",
   "metadata": {},
   "source": [
    "> The two variables (male or female) we are considering are categorical in nature, namely they are nominal. Thus, the first assumption is met.\n",
    "\n",
    "> The two variables we are considering are have outcomes independent of one another. Whether a male is a smoker is not affected by whether a female is a smoker. Thus, the second assumption is met."
   ]
  },
  {
   "attachments": {},
   "cell_type": "markdown",
   "metadata": {},
   "source": [
    "#### **_Statistical Test_**"
   ]
  },
  {
   "cell_type": "code",
   "execution_count": 62,
   "metadata": {},
   "outputs": [
    {
     "data": {
      "text/html": [
       "<div>\n",
       "<style scoped>\n",
       "    .dataframe tbody tr th:only-of-type {\n",
       "        vertical-align: middle;\n",
       "    }\n",
       "\n",
       "    .dataframe tbody tr th {\n",
       "        vertical-align: top;\n",
       "    }\n",
       "\n",
       "    .dataframe thead th {\n",
       "        text-align: right;\n",
       "    }\n",
       "</style>\n",
       "<table border=\"1\" class=\"dataframe\">\n",
       "  <thead>\n",
       "    <tr style=\"text-align: right;\">\n",
       "      <th>smoker</th>\n",
       "      <th>no</th>\n",
       "      <th>yes</th>\n",
       "    </tr>\n",
       "    <tr>\n",
       "      <th>sex</th>\n",
       "      <th></th>\n",
       "      <th></th>\n",
       "    </tr>\n",
       "  </thead>\n",
       "  <tbody>\n",
       "    <tr>\n",
       "      <th>female</th>\n",
       "      <td>547</td>\n",
       "      <td>115</td>\n",
       "    </tr>\n",
       "    <tr>\n",
       "      <th>male</th>\n",
       "      <td>517</td>\n",
       "      <td>159</td>\n",
       "    </tr>\n",
       "  </tbody>\n",
       "</table>\n",
       "</div>"
      ],
      "text/plain": [
       "smoker   no  yes\n",
       "sex             \n",
       "female  547  115\n",
       "male    517  159"
      ]
     },
     "execution_count": 62,
     "metadata": {},
     "output_type": "execute_result"
    }
   ],
   "source": [
    "# Obtain the contingency table\n",
    "cross_tab = pd.crosstab(df[\"sex\"], df[\"smoker\"])\n",
    "cross_tab"
   ]
  },
  {
   "cell_type": "code",
   "execution_count": 63,
   "metadata": {},
   "outputs": [],
   "source": [
    "# Perform the test\n",
    "result = stats.chi2_contingency(cross_tab)\n",
    "_, p, _, _ = result"
   ]
  },
  {
   "cell_type": "code",
   "execution_count": 64,
   "metadata": {},
   "outputs": [
    {
     "name": "stdout",
     "output_type": "stream",
     "text": [
      "0.006548143503580696\n"
     ]
    },
    {
     "data": {
      "text/plain": [
       "True"
      ]
     },
     "execution_count": 64,
     "metadata": {},
     "output_type": "execute_result"
    }
   ],
   "source": [
    "print(p)\n",
    "p < 0.05"
   ]
  },
  {
   "attachments": {},
   "cell_type": "markdown",
   "metadata": {},
   "source": [
    "> Our p-value is less than our alpha (0.05), so we reject the null hypothesis and conclude that there is a significant relationship between sex and smoker status, though we don't know which smokes more yet."
   ]
  },
  {
   "attachments": {},
   "cell_type": "markdown",
   "metadata": {},
   "source": [
    "#### **_Visual Results_**"
   ]
  },
  {
   "attachments": {},
   "cell_type": "markdown",
   "metadata": {},
   "source": [
    "> The result of our test says that there is a relationship between sex and smoker status. A visual can help us better understand which sex smokes more:"
   ]
  },
  {
   "cell_type": "code",
   "execution_count": 65,
   "metadata": {},
   "outputs": [
    {
     "data": {
      "image/png": "[encoded data removed]",
      "text/plain": [
       "<Figure size 640x480 with 1 Axes>"
      ]
     },
     "metadata": {},
     "output_type": "display_data"
    }
   ],
   "source": [
    "sns.countplot(data=df, x=\"smoker\", hue=\"sex\");"
   ]
  },
  {
   "attachments": {},
   "cell_type": "markdown",
   "metadata": {},
   "source": [
    "> The visual shows that, among smokers, there are more men than women. Likewise, among non-smokers there are more women than men. These facts coupled with the result of our test highlight our final result: men do smoke more than women."
   ]
  },
  {
   "attachments": {},
   "cell_type": "markdown",
   "metadata": {},
   "source": [
    "## **Test 3: Do different regions have different charges, on average?**"
   ]
  },
  {
   "attachments": {},
   "cell_type": "markdown",
   "metadata": {},
   "source": [
    "#### **_Hypotheses_**"
   ]
  },
  {
   "attachments": {},
   "cell_type": "markdown",
   "metadata": {},
   "source": [
    "> **Null Hypothesis:** On average, there is no significant difference in charges across regions.\n",
    "\n",
    "> **Alt. Hypothesis:** On average, there is a significant difference in charges across regions."
   ]
  },
  {
   "attachments": {},
   "cell_type": "markdown",
   "metadata": {},
   "source": [
    "#### **_Test Choice_**"
   ]
  },
  {
   "attachments": {},
   "cell_type": "markdown",
   "metadata": {},
   "source": [
    "> There are multiple groups/samples we are comparing (many regions). For each, we're comparing numerical data (amount charged). So, we will run a **One-Way ANOVA Test** and then a **Tukey Test**.\n",
    "\n",
    "> For this test I'll use an alpha value of 0.05. It also has the following assumptions:\n",
    "> 1. No significant outliers\n",
    "> 2. Normality (or for 2-9 groups, n > 15)\n",
    "> 3. Equal variances"
   ]
  },
  {
   "attachments": {},
   "cell_type": "markdown",
   "metadata": {},
   "source": [
    "#### **_Checking Assumptions_**"
   ]
  },
  {
   "cell_type": "markdown",
   "metadata": {},
   "source": [
    "##### Check and remove outliers:"
   ]
  },
  {
   "cell_type": "code",
   "execution_count": 66,
   "metadata": {},
   "outputs": [
    {
     "data": {
      "text/plain": [
       "dict_keys(['southwest', 'southeast', 'northwest', 'northeast'])"
      ]
     },
     "execution_count": 66,
     "metadata": {},
     "output_type": "execute_result"
    }
   ],
   "source": [
    "# Define a dictionary with the regions\n",
    "regions = {}\n",
    "\n",
    "# Store the charge data from each region as a value and the region as the key\n",
    "for region in df[\"region\"].unique():\n",
    "    data = df.loc[df[\"region\"] == region, \"charges\"]\n",
    "    regions[region] = data\n",
    "\n",
    "# Show the keys\n",
    "regions.keys()"
   ]
  },
  {
   "cell_type": "code",
   "execution_count": 67,
   "metadata": {},
   "outputs": [
    {
     "name": "stdout",
     "output_type": "stream",
     "text": [
      "There are 8 outliers for the southwest region\n",
      "Removing them.\n",
      "There are 2 outliers for the southeast region\n",
      "Removing them.\n",
      "There are 7 outliers for the northwest region\n",
      "Removing them.\n",
      "There are 4 outliers for the northeast region\n",
      "Removing them.\n"
     ]
    }
   ],
   "source": [
    "# Check for outliers\n",
    "for region in regions.keys():\n",
    "    # Get the zscores for the specific region\n",
    "    zscores = stats.zscore(regions[region])\n",
    "    # Get the outliers for the region\n",
    "    outliers = abs(zscores) > 3\n",
    "    # Display how much outliers there are\n",
    "    print(f\"There are {outliers.sum()} outliers for the {region} region\")\n",
    "\n",
    "    # If there are outliers, remove them.\n",
    "    if outliers.sum():\n",
    "        print(\"Removing them.\")\n",
    "        regions[region] = regions[region].loc[~outliers]"
   ]
  },
  {
   "attachments": {},
   "cell_type": "markdown",
   "metadata": {},
   "source": [
    "##### Check for normality\n",
    "\n",
    "> _Null hypothesis for normality test: the distribution is normal._"
   ]
  },
  {
   "cell_type": "code",
   "execution_count": 68,
   "metadata": {},
   "outputs": [
    {
     "data": {
      "text/html": [
       "<div>\n",
       "<style scoped>\n",
       "    .dataframe tbody tr th:only-of-type {\n",
       "        vertical-align: middle;\n",
       "    }\n",
       "\n",
       "    .dataframe tbody tr th {\n",
       "        vertical-align: top;\n",
       "    }\n",
       "\n",
       "    .dataframe thead th {\n",
       "        text-align: right;\n",
       "    }\n",
       "</style>\n",
       "<table border=\"1\" class=\"dataframe\">\n",
       "  <thead>\n",
       "    <tr style=\"text-align: right;\">\n",
       "      <th></th>\n",
       "      <th>n</th>\n",
       "      <th>p</th>\n",
       "      <th>test stat</th>\n",
       "    </tr>\n",
       "  </thead>\n",
       "  <tbody>\n",
       "    <tr>\n",
       "      <th>southwest</th>\n",
       "      <td>317.0</td>\n",
       "      <td>7.728611e-22</td>\n",
       "      <td>97.223886</td>\n",
       "    </tr>\n",
       "    <tr>\n",
       "      <th>southeast</th>\n",
       "      <td>362.0</td>\n",
       "      <td>1.936990e-13</td>\n",
       "      <td>58.544942</td>\n",
       "    </tr>\n",
       "    <tr>\n",
       "      <th>northwest</th>\n",
       "      <td>318.0</td>\n",
       "      <td>2.940543e-19</td>\n",
       "      <td>85.341045</td>\n",
       "    </tr>\n",
       "    <tr>\n",
       "      <th>northeast</th>\n",
       "      <td>320.0</td>\n",
       "      <td>3.557877e-17</td>\n",
       "      <td>75.749565</td>\n",
       "    </tr>\n",
       "  </tbody>\n",
       "</table>\n",
       "</div>"
      ],
      "text/plain": [
       "               n             p  test stat\n",
       "southwest  317.0  7.728611e-22  97.223886\n",
       "southeast  362.0  1.936990e-13  58.544942\n",
       "northwest  318.0  2.940543e-19  85.341045\n",
       "northeast  320.0  3.557877e-17  75.749565"
      ]
     },
     "execution_count": 68,
     "metadata": {},
     "output_type": "execute_result"
    }
   ],
   "source": [
    "# Create a dictionary for region normal test results\n",
    "region_norm_results = {}\n",
    "\n",
    "# Iterate through all the regions\n",
    "for key, values in regions.items():\n",
    "    stat, p = stats.normaltest(values)\n",
    "    region_norm_results[key] = {\n",
    "        \"n\": len(values),\n",
    "        \"p\": p,\n",
    "        \"test stat\": stat\n",
    "    }\n",
    "\n",
    "# Make into a DataFrame for easy viewing\n",
    "region_norm_results_df = pd.DataFrame(region_norm_results).T\n",
    "region_norm_results_df"
   ]
  },
  {
   "attachments": {},
   "cell_type": "markdown",
   "metadata": {},
   "source": [
    "> All the p-values are well under the function's alpha (0.05), so for each region we reject the null hypothesis and conclude that none of the regions have a normal distribution. However, each region has well over the required amount of samples (for One-way ANOVA tests with 2-9 groups, n > 15) to safely ignore the normality assumption. So, we will move on."
   ]
  },
  {
   "attachments": {},
   "cell_type": "markdown",
   "metadata": {},
   "source": [
    "##### Check for equal variance\n",
    "\n",
    "> _Null hypothesis for equal variance test: the groups have equal variances._"
   ]
  },
  {
   "cell_type": "code",
   "execution_count": 69,
   "metadata": {},
   "outputs": [
    {
     "data": {
      "text/plain": [
       "LeveneResult(statistic=9.518349004554441, pvalue=3.2035503711783993e-06)"
      ]
     },
     "execution_count": 69,
     "metadata": {},
     "output_type": "execute_result"
    }
   ],
   "source": [
    "stats.levene(*regions.values())"
   ]
  },
  {
   "attachments": {},
   "cell_type": "markdown",
   "metadata": {},
   "source": [
    "> The p-value is well under our alpha (0.05), leading us to reject the null hypothesis and conclude that the groups do not have equal variances. Thus, the non-parametric Kruskal-Wallis test must be used. "
   ]
  },
  {
   "attachments": {},
   "cell_type": "markdown",
   "metadata": {},
   "source": [
    "#### **_Statistical Test_**"
   ]
  },
  {
   "cell_type": "code",
   "execution_count": 70,
   "metadata": {},
   "outputs": [
    {
     "data": {
      "text/plain": [
       "KruskalResult(statistic=6.914045702545643, pvalue=0.07468847911322242)"
      ]
     },
     "execution_count": 70,
     "metadata": {},
     "output_type": "execute_result"
    }
   ],
   "source": [
    "stats.kruskal(*regions.values())"
   ]
  },
  {
   "attachments": {},
   "cell_type": "markdown",
   "metadata": {},
   "source": [
    "> The non-parametric Kruskal-Wallis test returned a p-value that is greater than our alpha (0.05). Thus, there is a significant difference in regional charges, thougn we don't know which ones yet. Now, using the Tukey test, I'll see which regions show the difference.\n",
    "\n",
    "> _Note: I was told we are able to use the Tukey test after using a non-parametric test._"
   ]
  },
  {
   "cell_type": "code",
   "execution_count": 71,
   "metadata": {},
   "outputs": [
    {
     "data": {
      "text/html": [
       "<table class=\"simpletable\">\n",
       "<caption>Multiple Comparison of Means - Tukey HSD, FWER=0.05</caption>\n",
       "<tr>\n",
       "   <th>group1</th>    <th>group2</th>    <th>meandiff</th>   <th>p-adj</th>    <th>lower</th>     <th>upper</th>   <th>reject</th>\n",
       "</tr>\n",
       "<tr>\n",
       "  <td>northeast</td> <td>northwest</td>  <td>-988.8091</td> <td>0.7245</td> <td>-3428.9343</td> <td>1451.3161</td>  <td>False</td>\n",
       "</tr>\n",
       "<tr>\n",
       "  <td>northeast</td> <td>southeast</td>  <td>1329.0269</td> <td>0.4745</td> <td>-1044.9417</td> <td>3702.9955</td>  <td>False</td>\n",
       "</tr>\n",
       "<tr>\n",
       "  <td>northeast</td> <td>southwest</td> <td>-1059.4471</td> <td>0.6792</td> <td>-3499.5723</td> <td>1380.6781</td>  <td>False</td>\n",
       "</tr>\n",
       "<tr>\n",
       "  <td>northwest</td> <td>southeast</td>  <td>2317.8361</td> <td>0.0583</td>  <td>-54.1994</td>  <td>4689.8716</td>  <td>False</td>\n",
       "</tr>\n",
       "<tr>\n",
       "  <td>northwest</td> <td>southwest</td>   <td>-70.638</td>  <td>0.9999</td> <td>-2508.8826</td> <td>2367.6066</td>  <td>False</td>\n",
       "</tr>\n",
       "<tr>\n",
       "  <td>southeast</td> <td>southwest</td> <td>-2388.4741</td> <td>0.0477</td> <td>-4760.5096</td> <td>-16.4386</td>   <td>True</td> \n",
       "</tr>\n",
       "</table>"
      ],
      "text/plain": [
       "<class 'statsmodels.iolib.table.SimpleTable'>"
      ]
     },
     "execution_count": 71,
     "metadata": {},
     "output_type": "execute_result"
    }
   ],
   "source": [
    "tukeys_results = pairwise_tukeyhsd(df[\"charges\"], df[\"region\"])\n",
    "tukeys_results.summary()\n",
    "> According to the Tukey Test, the only regions that have significant differences in charges between one another are the southeast and southwest region. All other regions do not have significant differences in charges between each other."
   ]
  },
  {
   "attachments": {},
   "cell_type": "markdown",
   "metadata": {},
   "source": [
    "#### **_Visual Results_**\n",
    "\n",
    "> With a visual, we can identify the exact nature of the differences in charges between the southeast and southwest regions:"
   ]
  },
  {
   "cell_type": "code",
   "execution_count": 77,
   "metadata": {},
   "outputs": [
    {
     "data": {
      "image/png": "[encoded data removed]",
      "text/plain": [
       "<Figure size 640x480 with 1 Axes>"
      ]
     },
     "metadata": {},
     "output_type": "display_data"
    }
   ],
   "source": [
    "sns.barplot(data=df.loc[(df[\"region\"] == \"southwest\") | (df[\"region\"] == \"southeast\"), :], x=\"region\", y=\"charges\");"
   ]
  },
  {
   "attachments": {},
   "cell_type": "markdown",
   "metadata": {},
   "source": [
    "> According to the final results of our test and the visual above, the southeast region is charged more than the southwest region."
   ]
  }
 ],
 "metadata": {
  "kernelspec": {
   "display_name": "dojo-env",
   "language": "python",
   "name": "python3"
  },
  "language_info": {
   "codemirror_mode": {
    "name": "ipython",
    "version": 3
   },
   "file_extension": ".py",
   "mimetype": "text/x-python",
   "name": "python",
   "nbconvert_exporter": "python",
   "pygments_lexer": "ipython3",
   "version": "3.9.15"
  },
  "orig_nbformat": 4
 },
 "nbformat": 4,
 "nbformat_minor": 2
}
